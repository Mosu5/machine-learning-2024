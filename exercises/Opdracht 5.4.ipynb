{
 "cells": [
  {
   "cell_type": "markdown",
   "metadata": {},
   "source": [
    "## 5.4A\n",
    "Kies op Kaggle.com (of elders op het Internet) een dataset uit die je interessant vindt en die niet gebruikt wordt in het ZTDL-notebook.\n",
    "\n",
    "### Antwoord\n",
    "- Ik heb een obesity data set gevonden op kaggel.com [dataset](https://www.kaggle.com/datasets/fatemehmehrparvar/obesity-levels/data).\n",
    "\n",
    "## 5.4B\n",
    "Formuleer je eigen classificatie vraagstuk. Je mag het eenvoudig houden. Het gaat er hierom dat je een keer zelf het traject hebt doorlopen met een eigen dataset\n",
    "\n",
    "### Antwoord\n",
    "- Mijn neural network moet mensen classificeren in verschillende obesity levels.\n",
    "\n",
    "## 5.4C\n",
    "Voer een dataexploratie en visualisatie uit zodat je verstand krijgt van de dataset. Je mag hierbij code van elders copy-pasten(!) als je de bron erbij vermeld. In deze module gaat het niet om leren Phyton programmeren maar om het oplossen van een (eenvoudig) classificatie vraagstuk\n",
    "\n",
    "### Antwoord\n",
    "-\n",
    "\n",
    "## 5.4D\n",
    "Stel een neuraal netwerk op entrain deze met de dataset\n",
    "\n",
    "### Antwoord\n",
    "-\n",
    "\n",
    "## 5.4E\n",
    "Test het resultaat.\n",
    "\n",
    "### Antwoord\n",
    "-\n",
    "\n",
    "## 5.4F\n",
    "Wat is je conclusie?\n",
    "\n",
    "###\n",
    "-"
   ]
  },
  {
   "cell_type": "code",
   "execution_count": null,
   "metadata": {},
   "outputs": [],
   "source": []
  }
 ],
 "metadata": {
  "kernelspec": {
   "display_name": "Python 3 (ipykernel)",
   "language": "python",
   "name": "python3"
  },
  "language_info": {
   "codemirror_mode": {
    "name": "ipython",
    "version": 3
   },
   "file_extension": ".py",
   "mimetype": "text/x-python",
   "name": "python",
   "nbconvert_exporter": "python",
   "pygments_lexer": "ipython3",
   "version": "3.7.16"
  }
 },
 "nbformat": 4,
 "nbformat_minor": 2
}
