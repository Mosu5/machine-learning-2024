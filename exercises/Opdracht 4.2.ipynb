{
 "cells": [
  {
   "cell_type": "code",
   "execution_count": 1,
   "id": "a13fc6d4",
   "metadata": {},
   "outputs": [],
   "source": [
    "%matplotlib inline\n",
    "import matplotlib.pyplot as plt\n",
    "import pandas as pd\n",
    "import numpy as np"
   ]
  },
  {
   "cell_type": "code",
   "execution_count": 2,
   "id": "5d55259b",
   "metadata": {},
   "outputs": [],
   "source": [
    "df = pd.read_csv('../data/twitch_streamers.csv')"
   ]
  },
  {
   "cell_type": "code",
   "execution_count": 3,
   "id": "34cfd30b",
   "metadata": {},
   "outputs": [
    {
     "data": {
      "text/plain": [
       "pandas.core.frame.DataFrame"
      ]
     },
     "execution_count": 3,
     "metadata": {},
     "output_type": "execute_result"
    }
   ],
   "source": [
    "type(df)"
   ]
  },
  {
   "cell_type": "code",
   "execution_count": 4,
   "id": "fe8be212",
   "metadata": {},
   "outputs": [
    {
     "data": {
      "text/html": [
       "<div>\n",
       "<style scoped>\n",
       "    .dataframe tbody tr th:only-of-type {\n",
       "        vertical-align: middle;\n",
       "    }\n",
       "\n",
       "    .dataframe tbody tr th {\n",
       "        vertical-align: top;\n",
       "    }\n",
       "\n",
       "    .dataframe thead th {\n",
       "        text-align: right;\n",
       "    }\n",
       "</style>\n",
       "<table border=\"1\" class=\"dataframe\">\n",
       "  <thead>\n",
       "    <tr style=\"text-align: right;\">\n",
       "      <th></th>\n",
       "      <th>RANK</th>\n",
       "      <th>NAME</th>\n",
       "      <th>LANGUAGE</th>\n",
       "      <th>TYPE</th>\n",
       "      <th>MOST_STREAMED_GAME</th>\n",
       "      <th>2ND_MOST_STREAMED_GAME</th>\n",
       "      <th>AVERAGE_STREAM_DURATION</th>\n",
       "      <th>FOLLOWERS_GAINED_PER_STREAM</th>\n",
       "      <th>AVG_VIEWERS_PER_STREAM</th>\n",
       "      <th>AVG_GAMES_PER_STREAM</th>\n",
       "      <th>TOTAL_TIME_STREAMED</th>\n",
       "      <th>TOTAL_FOLLOWERS</th>\n",
       "      <th>TOTAL_VIEWS</th>\n",
       "      <th>TOTAL_GAMES_STREAMED</th>\n",
       "      <th>ACTIVE_DAYS_PER_WEEK</th>\n",
       "      <th>MOST_ACTIVE_DAY</th>\n",
       "      <th>DAY_WITH_MOST_FOLLOWERS_GAINED</th>\n",
       "    </tr>\n",
       "  </thead>\n",
       "  <tbody>\n",
       "    <tr>\n",
       "      <th>0</th>\n",
       "      <td>1</td>\n",
       "      <td>kaicenat</td>\n",
       "      <td>English</td>\n",
       "      <td>personality</td>\n",
       "      <td>Just Chatting</td>\n",
       "      <td>I'm Only Sleeping</td>\n",
       "      <td>7.6</td>\n",
       "      <td>18.405</td>\n",
       "      <td>15.852</td>\n",
       "      <td>2.3</td>\n",
       "      <td>4.698</td>\n",
       "      <td>10600000</td>\n",
       "      <td>9150000</td>\n",
       "      <td>194</td>\n",
       "      <td>3.6</td>\n",
       "      <td>Friday</td>\n",
       "      <td>Saturday</td>\n",
       "    </tr>\n",
       "    <tr>\n",
       "      <th>1</th>\n",
       "      <td>2</td>\n",
       "      <td>jynxzi</td>\n",
       "      <td>English</td>\n",
       "      <td>personality</td>\n",
       "      <td>Tom Clancy's Rainbow Six Siege</td>\n",
       "      <td>NBA 2K20</td>\n",
       "      <td>5.4</td>\n",
       "      <td>3.386</td>\n",
       "      <td>1.145</td>\n",
       "      <td>1.2</td>\n",
       "      <td>8.407</td>\n",
       "      <td>5760000</td>\n",
       "      <td>1950000</td>\n",
       "      <td>54</td>\n",
       "      <td>5.6</td>\n",
       "      <td>Tuesday</td>\n",
       "      <td>Sunday</td>\n",
       "    </tr>\n",
       "    <tr>\n",
       "      <th>2</th>\n",
       "      <td>3</td>\n",
       "      <td>caedrel</td>\n",
       "      <td>English</td>\n",
       "      <td>personality</td>\n",
       "      <td>League of Legends</td>\n",
       "      <td>I'm Only Sleeping</td>\n",
       "      <td>6.3</td>\n",
       "      <td>689.000</td>\n",
       "      <td>12.331</td>\n",
       "      <td>1.3</td>\n",
       "      <td>6.728</td>\n",
       "      <td>797000</td>\n",
       "      <td>14200000</td>\n",
       "      <td>111</td>\n",
       "      <td>2.8</td>\n",
       "      <td>Thursday</td>\n",
       "      <td>Sunday</td>\n",
       "    </tr>\n",
       "    <tr>\n",
       "      <th>3</th>\n",
       "      <td>4</td>\n",
       "      <td>caseoh_</td>\n",
       "      <td>English</td>\n",
       "      <td>personality</td>\n",
       "      <td>NBA 2K23</td>\n",
       "      <td>Just Chatting</td>\n",
       "      <td>4.6</td>\n",
       "      <td>7.185</td>\n",
       "      <td>0.000</td>\n",
       "      <td>3.6</td>\n",
       "      <td>2.554</td>\n",
       "      <td>4220000</td>\n",
       "      <td>53</td>\n",
       "      <td>385</td>\n",
       "      <td>6.2</td>\n",
       "      <td>Friday</td>\n",
       "      <td>Monday</td>\n",
       "    </tr>\n",
       "    <tr>\n",
       "      <th>4</th>\n",
       "      <td>5</td>\n",
       "      <td>ibai</td>\n",
       "      <td>Spanish</td>\n",
       "      <td>personality</td>\n",
       "      <td>Just Chatting</td>\n",
       "      <td>League of Legends</td>\n",
       "      <td>4.1</td>\n",
       "      <td>8.289</td>\n",
       "      <td>190.714</td>\n",
       "      <td>1.5</td>\n",
       "      <td>6.865</td>\n",
       "      <td>15600000</td>\n",
       "      <td>359000000</td>\n",
       "      <td>149</td>\n",
       "      <td>4.3</td>\n",
       "      <td>Wednesday</td>\n",
       "      <td>Saturday</td>\n",
       "    </tr>\n",
       "  </tbody>\n",
       "</table>\n",
       "</div>"
      ],
      "text/plain": [
       "   RANK      NAME LANGUAGE         TYPE              MOST_STREAMED_GAME  \\\n",
       "0     1  kaicenat  English  personality                   Just Chatting   \n",
       "1     2    jynxzi  English  personality  Tom Clancy's Rainbow Six Siege   \n",
       "2     3   caedrel  English  personality               League of Legends   \n",
       "3     4   caseoh_  English  personality                        NBA 2K23   \n",
       "4     5      ibai  Spanish  personality                   Just Chatting   \n",
       "\n",
       "  2ND_MOST_STREAMED_GAME  AVERAGE_STREAM_DURATION  \\\n",
       "0      I'm Only Sleeping                      7.6   \n",
       "1               NBA 2K20                      5.4   \n",
       "2      I'm Only Sleeping                      6.3   \n",
       "3          Just Chatting                      4.6   \n",
       "4      League of Legends                      4.1   \n",
       "\n",
       "   FOLLOWERS_GAINED_PER_STREAM  AVG_VIEWERS_PER_STREAM  AVG_GAMES_PER_STREAM  \\\n",
       "0                       18.405                  15.852                   2.3   \n",
       "1                        3.386                   1.145                   1.2   \n",
       "2                      689.000                  12.331                   1.3   \n",
       "3                        7.185                   0.000                   3.6   \n",
       "4                        8.289                 190.714                   1.5   \n",
       "\n",
       "   TOTAL_TIME_STREAMED  TOTAL_FOLLOWERS  TOTAL_VIEWS  TOTAL_GAMES_STREAMED  \\\n",
       "0                4.698         10600000      9150000                   194   \n",
       "1                8.407          5760000      1950000                    54   \n",
       "2                6.728           797000     14200000                   111   \n",
       "3                2.554          4220000           53                   385   \n",
       "4                6.865         15600000    359000000                   149   \n",
       "\n",
       "   ACTIVE_DAYS_PER_WEEK MOST_ACTIVE_DAY DAY_WITH_MOST_FOLLOWERS_GAINED  \n",
       "0                   3.6          Friday                       Saturday  \n",
       "1                   5.6         Tuesday                         Sunday  \n",
       "2                   2.8        Thursday                         Sunday  \n",
       "3                   6.2          Friday                         Monday  \n",
       "4                   4.3       Wednesday                       Saturday  "
      ]
     },
     "execution_count": 4,
     "metadata": {},
     "output_type": "execute_result"
    }
   ],
   "source": [
    "df.head()"
   ]
  },
  {
   "cell_type": "code",
   "execution_count": 5,
   "id": "2453a32a",
   "metadata": {},
   "outputs": [
    {
     "name": "stdout",
     "output_type": "stream",
     "text": [
      "<class 'pandas.core.frame.DataFrame'>\n",
      "RangeIndex: 999 entries, 0 to 998\n",
      "Data columns (total 17 columns):\n",
      " #   Column                          Non-Null Count  Dtype  \n",
      "---  ------                          --------------  -----  \n",
      " 0   RANK                            999 non-null    int64  \n",
      " 1   NAME                            999 non-null    object \n",
      " 2   LANGUAGE                        999 non-null    object \n",
      " 3   TYPE                            999 non-null    object \n",
      " 4   MOST_STREAMED_GAME              999 non-null    object \n",
      " 5   2ND_MOST_STREAMED_GAME          922 non-null    object \n",
      " 6   AVERAGE_STREAM_DURATION         999 non-null    float64\n",
      " 7   FOLLOWERS_GAINED_PER_STREAM     999 non-null    float64\n",
      " 8   AVG_VIEWERS_PER_STREAM          999 non-null    float64\n",
      " 9   AVG_GAMES_PER_STREAM            999 non-null    float64\n",
      " 10  TOTAL_TIME_STREAMED             999 non-null    float64\n",
      " 11  TOTAL_FOLLOWERS                 999 non-null    int64  \n",
      " 12  TOTAL_VIEWS                     999 non-null    int64  \n",
      " 13  TOTAL_GAMES_STREAMED            999 non-null    int64  \n",
      " 14  ACTIVE_DAYS_PER_WEEK            999 non-null    float64\n",
      " 15  MOST_ACTIVE_DAY                 999 non-null    object \n",
      " 16  DAY_WITH_MOST_FOLLOWERS_GAINED  999 non-null    object \n",
      "dtypes: float64(6), int64(4), object(7)\n",
      "memory usage: 132.8+ KB\n"
     ]
    }
   ],
   "source": [
    "df.info()"
   ]
  },
  {
   "cell_type": "code",
   "execution_count": 6,
   "id": "288116f5",
   "metadata": {},
   "outputs": [
    {
     "data": {
      "text/html": [
       "<div>\n",
       "<style scoped>\n",
       "    .dataframe tbody tr th:only-of-type {\n",
       "        vertical-align: middle;\n",
       "    }\n",
       "\n",
       "    .dataframe tbody tr th {\n",
       "        vertical-align: top;\n",
       "    }\n",
       "\n",
       "    .dataframe thead th {\n",
       "        text-align: right;\n",
       "    }\n",
       "</style>\n",
       "<table border=\"1\" class=\"dataframe\">\n",
       "  <thead>\n",
       "    <tr style=\"text-align: right;\">\n",
       "      <th></th>\n",
       "      <th>RANK</th>\n",
       "      <th>AVERAGE_STREAM_DURATION</th>\n",
       "      <th>FOLLOWERS_GAINED_PER_STREAM</th>\n",
       "      <th>AVG_VIEWERS_PER_STREAM</th>\n",
       "      <th>AVG_GAMES_PER_STREAM</th>\n",
       "      <th>TOTAL_TIME_STREAMED</th>\n",
       "      <th>TOTAL_FOLLOWERS</th>\n",
       "      <th>TOTAL_VIEWS</th>\n",
       "      <th>TOTAL_GAMES_STREAMED</th>\n",
       "      <th>ACTIVE_DAYS_PER_WEEK</th>\n",
       "    </tr>\n",
       "  </thead>\n",
       "  <tbody>\n",
       "    <tr>\n",
       "      <th>count</th>\n",
       "      <td>999.000000</td>\n",
       "      <td>999.000000</td>\n",
       "      <td>999.000000</td>\n",
       "      <td>999.000000</td>\n",
       "      <td>999.000000</td>\n",
       "      <td>999.000000</td>\n",
       "      <td>9.990000e+02</td>\n",
       "      <td>9.990000e+02</td>\n",
       "      <td>999.000000</td>\n",
       "      <td>999.000000</td>\n",
       "    </tr>\n",
       "    <tr>\n",
       "      <th>mean</th>\n",
       "      <td>500.972973</td>\n",
       "      <td>5.996697</td>\n",
       "      <td>266.788599</td>\n",
       "      <td>70.257758</td>\n",
       "      <td>1.477878</td>\n",
       "      <td>56.961769</td>\n",
       "      <td>9.194033e+05</td>\n",
       "      <td>3.001478e+07</td>\n",
       "      <td>141.707708</td>\n",
       "      <td>3.591391</td>\n",
       "    </tr>\n",
       "    <tr>\n",
       "      <th>std</th>\n",
       "      <td>288.576373</td>\n",
       "      <td>3.241013</td>\n",
       "      <td>274.912323</td>\n",
       "      <td>163.873300</td>\n",
       "      <td>0.575189</td>\n",
       "      <td>322.866528</td>\n",
       "      <td>1.725451e+06</td>\n",
       "      <td>6.280328e+07</td>\n",
       "      <td>245.930466</td>\n",
       "      <td>1.797796</td>\n",
       "    </tr>\n",
       "    <tr>\n",
       "      <th>min</th>\n",
       "      <td>1.000000</td>\n",
       "      <td>1.200000</td>\n",
       "      <td>-424.000000</td>\n",
       "      <td>0.000000</td>\n",
       "      <td>1.000000</td>\n",
       "      <td>1.004000</td>\n",
       "      <td>0.000000e+00</td>\n",
       "      <td>0.000000e+00</td>\n",
       "      <td>1.000000</td>\n",
       "      <td>0.000000</td>\n",
       "    </tr>\n",
       "    <tr>\n",
       "      <th>25%</th>\n",
       "      <td>251.500000</td>\n",
       "      <td>4.200000</td>\n",
       "      <td>5.546500</td>\n",
       "      <td>3.381000</td>\n",
       "      <td>1.100000</td>\n",
       "      <td>3.702000</td>\n",
       "      <td>1.875000e+05</td>\n",
       "      <td>6.455000e+05</td>\n",
       "      <td>16.000000</td>\n",
       "      <td>2.200000</td>\n",
       "    </tr>\n",
       "    <tr>\n",
       "      <th>50%</th>\n",
       "      <td>501.000000</td>\n",
       "      <td>5.400000</td>\n",
       "      <td>185.000000</td>\n",
       "      <td>12.454000</td>\n",
       "      <td>1.300000</td>\n",
       "      <td>7.140000</td>\n",
       "      <td>4.370000e+05</td>\n",
       "      <td>6.950000e+06</td>\n",
       "      <td>55.000000</td>\n",
       "      <td>3.800000</td>\n",
       "    </tr>\n",
       "    <tr>\n",
       "      <th>75%</th>\n",
       "      <td>750.500000</td>\n",
       "      <td>6.900000</td>\n",
       "      <td>444.000000</td>\n",
       "      <td>37.596000</td>\n",
       "      <td>1.700000</td>\n",
       "      <td>13.588500</td>\n",
       "      <td>8.895000e+05</td>\n",
       "      <td>3.015000e+07</td>\n",
       "      <td>168.000000</td>\n",
       "      <td>5.100000</td>\n",
       "    </tr>\n",
       "    <tr>\n",
       "      <th>max</th>\n",
       "      <td>1000.000000</td>\n",
       "      <td>23.900000</td>\n",
       "      <td>991.000000</td>\n",
       "      <td>991.000000</td>\n",
       "      <td>9.300000</td>\n",
       "      <td>9092.000000</td>\n",
       "      <td>1.900000e+07</td>\n",
       "      <td>5.720000e+08</td>\n",
       "      <td>2980.000000</td>\n",
       "      <td>7.000000</td>\n",
       "    </tr>\n",
       "  </tbody>\n",
       "</table>\n",
       "</div>"
      ],
      "text/plain": [
       "              RANK  AVERAGE_STREAM_DURATION  FOLLOWERS_GAINED_PER_STREAM  \\\n",
       "count   999.000000               999.000000                   999.000000   \n",
       "mean    500.972973                 5.996697                   266.788599   \n",
       "std     288.576373                 3.241013                   274.912323   \n",
       "min       1.000000                 1.200000                  -424.000000   \n",
       "25%     251.500000                 4.200000                     5.546500   \n",
       "50%     501.000000                 5.400000                   185.000000   \n",
       "75%     750.500000                 6.900000                   444.000000   \n",
       "max    1000.000000                23.900000                   991.000000   \n",
       "\n",
       "       AVG_VIEWERS_PER_STREAM  AVG_GAMES_PER_STREAM  TOTAL_TIME_STREAMED  \\\n",
       "count              999.000000            999.000000           999.000000   \n",
       "mean                70.257758              1.477878            56.961769   \n",
       "std                163.873300              0.575189           322.866528   \n",
       "min                  0.000000              1.000000             1.004000   \n",
       "25%                  3.381000              1.100000             3.702000   \n",
       "50%                 12.454000              1.300000             7.140000   \n",
       "75%                 37.596000              1.700000            13.588500   \n",
       "max                991.000000              9.300000          9092.000000   \n",
       "\n",
       "       TOTAL_FOLLOWERS   TOTAL_VIEWS  TOTAL_GAMES_STREAMED  \\\n",
       "count     9.990000e+02  9.990000e+02            999.000000   \n",
       "mean      9.194033e+05  3.001478e+07            141.707708   \n",
       "std       1.725451e+06  6.280328e+07            245.930466   \n",
       "min       0.000000e+00  0.000000e+00              1.000000   \n",
       "25%       1.875000e+05  6.455000e+05             16.000000   \n",
       "50%       4.370000e+05  6.950000e+06             55.000000   \n",
       "75%       8.895000e+05  3.015000e+07            168.000000   \n",
       "max       1.900000e+07  5.720000e+08           2980.000000   \n",
       "\n",
       "       ACTIVE_DAYS_PER_WEEK  \n",
       "count            999.000000  \n",
       "mean               3.591391  \n",
       "std                1.797796  \n",
       "min                0.000000  \n",
       "25%                2.200000  \n",
       "50%                3.800000  \n",
       "75%                5.100000  \n",
       "max                7.000000  "
      ]
     },
     "execution_count": 6,
     "metadata": {},
     "output_type": "execute_result"
    }
   ],
   "source": [
    "df.describe()"
   ]
  },
  {
   "cell_type": "code",
   "execution_count": 7,
   "id": "0431b3e7",
   "metadata": {},
   "outputs": [],
   "source": [
    "df['2ND_MOST_STREAMED_GAME'].fillna(\"None\", inplace=True)"
   ]
  },
  {
   "cell_type": "code",
   "execution_count": 8,
   "id": "66b44d34",
   "metadata": {},
   "outputs": [],
   "source": [
    "top_games = df[df['MOST_STREAMED_GAME'] != \"None\"]['MOST_STREAMED_GAME'].value_counts().head(10)"
   ]
  },
  {
   "cell_type": "code",
   "execution_count": 9,
   "id": "5c13e256",
   "metadata": {},
   "outputs": [
    {
     "data": {
      "text/plain": [
       "Text(0.5, 1.0, 'Top 10 Streamed Games')"
      ]
     },
     "execution_count": 9,
     "metadata": {},
     "output_type": "execute_result"
    },
    {
     "data": {
      "image/png": "[encoded data removed]",
      "text/plain": [
       "<Figure size 640x480 with 1 Axes>"
      ]
     },
     "metadata": {},
     "output_type": "display_data"
    }
   ],
   "source": [
    "# Plot the top 10 streamed games\n",
    "top_games.plot(kind='bar')\n",
    "plt.xlabel('Game')\n",
    "plt.ylabel('Number of Streamers')\n",
    "plt.title('Top 10 Streamed Games')"
   ]
  },
  {
   "cell_type": "code",
   "execution_count": 10,
   "id": "a875f911",
   "metadata": {},
   "outputs": [
    {
     "data": {
      "text/plain": [
       "Text(0.5, 1.0, 'Distribution of Followers')"
      ]
     },
     "execution_count": 10,
     "metadata": {},
     "output_type": "execute_result"
    },
    {
     "data": {
      "image/png": "[encoded data removed]",
      "text/plain": [
       "<Figure size 640x480 with 1 Axes>"
      ]
     },
     "metadata": {},
     "output_type": "display_data"
    }
   ],
   "source": [
    "# Filter data with non-zero followers (to avoid division by zero)\n",
    "data_filtered = df[df['TOTAL_FOLLOWERS'] > 0]\n",
    "\n",
    "# Distribution of Followers\n",
    "plt.subplot(2, 2, 1)\n",
    "plt.hist(data_filtered['TOTAL_FOLLOWERS'], bins=20) \n",
    "plt.xlabel('Total Followers')\n",
    "plt.ylabel('Number of Streamers')\n",
    "plt.title('Distribution of Followers')\n"
   ]
  },
  {
   "cell_type": "code",
   "execution_count": 11,
   "id": "b04b3a78",
   "metadata": {},
   "outputs": [
    {
     "data": {
      "text/plain": [
       "Text(0.5, 1.0, 'Distribution of Streamers by Follower Count')"
      ]
     },
     "execution_count": 11,
     "metadata": {},
     "output_type": "execute_result"
    },
    {
     "data": {
      "image/png": "[encoded data removed]",
      "text/plain": [
       "<Figure size 640x480 with 1 Axes>"
      ]
     },
     "metadata": {},
     "output_type": "display_data"
    }
   ],
   "source": [
    "# Define follower ranges\n",
    "follower_bins = [0, 1000, 10000, 50000, 100000, float('inf')]\n",
    "follower_labels = ['0-1K', '1K-10K', '10K-50K', '50K-100K', '100K+']\n",
    "\n",
    "# Create categories based on follower ranges\n",
    "df['follower_category'] = pd.cut(df['TOTAL_FOLLOWERS'], bins=follower_bins, labels=follower_labels)\n",
    "\n",
    "# Count streamers in each category\n",
    "follower_counts = df['follower_category'].value_counts()\n",
    "\n",
    "# Sort follower counts by their index (follower range)\n",
    "sorted_follower_counts = follower_counts.sort_index()\n",
    "\n",
    "# Create a pie chart\n",
    "plt.pie(sorted_follower_counts, labels=None, autopct='%1.1f%%')  # Remove labels from pie slices\n",
    "plt.legend(sorted_follower_counts.index, loc='upper left', bbox_to_anchor=(1, 1))  \n",
    "\n",
    "plt.title('Distribution of Streamers by Follower Count')"
   ]
  },
  {
   "cell_type": "code",
   "execution_count": null,
   "id": "c6e54d5d",
   "metadata": {},
   "outputs": [],
   "source": []
  },
  {
   "cell_type": "code",
   "execution_count": null,
   "id": "fce166c3",
   "metadata": {},
   "outputs": [],
   "source": []
  },
  {
   "cell_type": "code",
   "execution_count": null,
   "id": "86a7a922",
   "metadata": {},
   "outputs": [],
   "source": []
  },
  {
   "cell_type": "code",
   "execution_count": null,
   "id": "fd4e7ddc",
   "metadata": {},
   "outputs": [],
   "source": []
  },
  {
   "cell_type": "code",
   "execution_count": null,
   "id": "d18f1d1d",
   "metadata": {},
   "outputs": [],
   "source": []
  }
 ],
 "metadata": {
  "kernelspec": {
   "display_name": "Python 3 (ipykernel)",
   "language": "python",
   "name": "python3"
  },
  "language_info": {
   "codemirror_mode": {
    "name": "ipython",
    "version": 3
   },
   "file_extension": ".py",
   "mimetype": "text/x-python",
   "name": "python",
   "nbconvert_exporter": "python",
   "pygments_lexer": "ipython3",
   "version": "3.7.16"
  }
 },
 "nbformat": 4,
 "nbformat_minor": 5
}
